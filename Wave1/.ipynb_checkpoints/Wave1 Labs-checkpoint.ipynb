{
 "cells": [
  {
   "cell_type": "markdown",
   "metadata": {},
   "source": [
    "# Lab 1 of 1"
   ]
  },
  {
   "cell_type": "code",
   "execution_count": 1,
   "metadata": {},
   "outputs": [
    {
     "name": "stdout",
     "output_type": "stream",
     "text": [
      "The average electricity bill is 39.666666666666664\n"
     ]
    }
   ],
   "source": [
    "#Quiz: Average Electricity Bill\n",
    "#It's time to try a calculation in Python!\n",
    "# Write an expression that calculates the average of 23, 32 and 64\n",
    "# Place the expression in this print statement\n",
    "\n",
    "total_bills = 23 + 32 + 64\n",
    "len_bills = 3\n",
    "\n",
    "print(\"The average electricity bill is\", total_bills/len_bills)"
   ]
  },
  {
   "cell_type": "markdown",
   "metadata": {},
   "source": [
    "# Lab 1 of 2"
   ]
  },
  {
   "cell_type": "code",
   "execution_count": 2,
   "metadata": {},
   "outputs": [
    {
     "name": "stdout",
     "output_type": "stream",
     "text": [
      "Total number of tiles needed is 98\n",
      "Number of left over tiles is 4\n"
     ]
    }
   ],
   "source": [
    "#Quiz: Calculate\n",
    "#In this quiz you're going to do some calculations for a tiler. Two parts of a floor need tiling. \n",
    "#One part is 9 tiles wide by 7 tiles long, the other is 5 tiles wide by 7 tiles long. Tiles come in packages of 6.\n",
    "#1. How many tiles are needed?\n",
    "#2. You buy 17 packages of tiles containing 6 tiles each. How many tiles will be left over?\n",
    "\n",
    "\n",
    "# Fill this in with an expression that calculates how many tiles are needed.\n",
    "part_one = 9 * 7\n",
    "part_two = 5 * 7\n",
    "total_tiles = part_one + part_two\n",
    "print(\"Total number of tiles needed is\", total_tiles)\n",
    "\n",
    "# Fill this in with an expression that calculates how many tiles will be left over\n",
    "purchased_tiles = 17 * 6\n",
    "left_over = purchased_tiles - total_tiles\n",
    "print(\"Number of left over tiles is\", left_over)"
   ]
  },
  {
   "cell_type": "markdown",
   "metadata": {},
   "source": [
    "# Lab 1 of 2.2"
   ]
  },
  {
   "cell_type": "code",
   "execution_count": 3,
   "metadata": {},
   "outputs": [
    {
     "name": "stdout",
     "output_type": "stream",
     "text": [
      "expected result: 10, actual result: 10.0\n",
      "expected result: 7123.6902801, actual result: 7123.690280065897\n"
     ]
    }
   ],
   "source": [
    "#Quiz: Assign and Modify Variables\n",
    "#Now it's your turn to work with variables. \\\n",
    "#The comments in this quiz (the lines that begin with #) have instructions for creating and modifying variables. \n",
    "#After each comment write a line of code that implements the instruction.\n",
    "#Note that this code uses scientific notation to define large numbers. \n",
    "#4.445e8 is equal to 4.445 * 10 ** 8 which is equal to 444500000.0.\n",
    "\n",
    "# Write your function here. Make sure to use \"population_density\" as the name of the fucntion. so, the test below works. \n",
    "def population_density(x, y):\n",
    "    return (x/y)\n",
    "\n",
    "# test cases for your function Dont change anything below this comment.\n",
    "test1 = population_density(10, 1)\n",
    "expected_result1 = 10\n",
    "print(\"expected result: {}, actual result: {}\".format(expected_result1, test1))\n",
    "\n",
    "test2 = population_density(864816, 121.4)\n",
    "expected_result2 = 7123.6902801\n",
    "print(\"expected result: {}, actual result: {}\".format(expected_result2, test2))"
   ]
  },
  {
   "cell_type": "markdown",
   "metadata": {},
   "source": [
    "# Lab 1 of 3"
   ]
  },
  {
   "cell_type": "code",
   "execution_count": 4,
   "metadata": {},
   "outputs": [
    {
     "name": "stdout",
     "output_type": "stream",
     "text": [
      "447627500.0\n"
     ]
    }
   ],
   "source": [
    "#Note that this code uses scientific notation to define large numbers. \n",
    "#4.445e8 is equal to 4.445 * 10 ** 8 which is equal to 444500000.0.\n",
    "\n",
    "# The current volume of a water reservoir (in cubic metres)\n",
    "reservoir_volume = 4.445e8\n",
    "\n",
    "# The amount of rainfall from a storm (in cubic metres)\n",
    "rainfall = 5e6\n",
    "\n",
    "# decrease the rainfall variable by 10% to account for runoff\n",
    "rainfall = rainfall - ((10/100) * rainfall) \n",
    "\n",
    "\n",
    "# add the rainfall variable to the reservoir_volume variable\n",
    "reservoir_volume = rainfall + reservoir_volume\n",
    "\n",
    "\n",
    "# increase reservoir_volume by 5% to account for stormwater that flows into the reservoir in the days following the storm\n",
    "reservoir_volume = reservoir_volume + ((5/100) * reservoir_volume)\n",
    "\n",
    "\n",
    "# decrease reservoir_volume by 5% to account for evaporation\n",
    "reservoir_volume = reservoir_volume - ((5/100) * reservoir_volume)\n",
    "\n",
    "\n",
    "# subtract 2.5e5 cubic metres from reservoir_volume to account for water that's piped to arid regions.\n",
    "reservoir_volume = reservoir_volume - (2.5e5)\n",
    "\n",
    "\n",
    "# print the new value of the reservoir_volume variable\n",
    "print(reservoir_volume)"
   ]
  },
  {
   "cell_type": "markdown",
   "metadata": {},
   "source": [
    "# Lab 1 of 4"
   ]
  },
  {
   "cell_type": "code",
   "execution_count": 5,
   "metadata": {},
   "outputs": [
    {
     "name": "stdout",
     "output_type": "stream",
     "text": [
      "False\n"
     ]
    }
   ],
   "source": [
    "sf_population, sf_area = 864816, 231.89\n",
    "rio_population, rio_area = 6453682, 486.5\n",
    "\n",
    "san_francisco_pop_density = sf_population/sf_area\n",
    "rio_de_janeiro_pop_density = rio_population/rio_area\n",
    "\n",
    "# Write code that prints True if San Francisco is denser than Rio, and False otherwise\n",
    "if san_francisco_pop_density > rio_de_janeiro_pop_density:\n",
    "    print(True)\n",
    "else:\n",
    "    print(False)"
   ]
  },
  {
   "cell_type": "markdown",
   "metadata": {},
   "source": [
    "# Lab 1 of 5"
   ]
  },
  {
   "cell_type": "code",
   "execution_count": 6,
   "metadata": {},
   "outputs": [
    {
     "name": "stdout",
     "output_type": "stream",
     "text": [
      "Whether you think you can, or you think you can't--you're right.\n"
     ]
    }
   ],
   "source": [
    "#The line of code in the following quiz will cause a SyntaxError, thanks to the misuse of quotation marks. \n",
    "#First run it with to view the error message. \n",
    "#Then resolve the problem so that the quote (from Henry Ford) is correctly assigned to the variable ford_quote.\n",
    "\n",
    "# TODO: Fix this string!\n",
    "\n",
    "ford_quote = 'Whether you think you can, or you think you can\\'t--you\\'re right.'\n",
    "print(ford_quote)"
   ]
  },
  {
   "cell_type": "markdown",
   "metadata": {},
   "source": [
    "# Lab 1 of 6"
   ]
  },
  {
   "cell_type": "code",
   "execution_count": 7,
   "metadata": {},
   "outputs": [
    {
     "name": "stdout",
     "output_type": "stream",
     "text": [
      "Kinari accessed the site http://petshop.com/pets/mammals/cats at 04:50.\n"
     ]
    }
   ],
   "source": [
    "username = \"Kinari\"\n",
    "timestamp = \"04:50\"\n",
    "url = \"http://petshop.com/pets/mammals/cats\"\n",
    "\n",
    "# TODO: print a log message using the variables above.\n",
    "# The message should have the same format as this one:\n",
    "# \"Yogesh accessed the site http://petshop.com/pets/reptiles/pythons at 16:20.\"\n",
    "\n",
    "print(\"{0} accessed the site {1} at {2}.\".format(username, url, timestamp))"
   ]
  },
  {
   "cell_type": "markdown",
   "metadata": {},
   "source": [
    "# Lab 1 of 7"
   ]
  },
  {
   "cell_type": "code",
   "execution_count": 8,
   "metadata": {},
   "outputs": [
    {
     "name": "stdout",
     "output_type": "stream",
     "text": [
      "True\n"
     ]
    }
   ],
   "source": [
    "#Use string concatenation and the len() function to find the length of a certain movie star's actual full name.\n",
    "#Store that length in the name_length variable. Don't forget that there are spaces in between the different parts of a name!\n",
    "\n",
    "given_name = \"William\"\n",
    "middle_names = \"Bradley\"\n",
    "family_name = \"Pitt\"\n",
    "\n",
    "name_length = len(given_name+\" \"+middle_names+\" \"+family_name)\n",
    "\n",
    "#todo: calculate how long this name is\n",
    "# Now we check to make sure that the name fits within the driving license character limit\n",
    "# Nothing you need to do here\n",
    "driving_license_character_limit = 28\n",
    "print(name_length <= driving_license_character_limit)"
   ]
  },
  {
   "cell_type": "markdown",
   "metadata": {},
   "source": [
    "# Lab 1 of 8"
   ]
  },
  {
   "cell_type": "code",
   "execution_count": 9,
   "metadata": {},
   "outputs": [
    {
     "name": "stdout",
     "output_type": "stream",
     "text": [
      "This week's total sales: 529\n"
     ]
    }
   ],
   "source": [
    "#In this quiz, you’ll need to change the types of the input and output data in order to get the result you want. \n",
    "#Calculate and print the total sales for the week from the data provided. \n",
    "#Print out a string of the form \"This week's total sales: xxx\", where xxx will be the actual total of all the numbers. \n",
    "#You’ll need to change the type of the input data in order to calculate that total.\n",
    "\n",
    "mon_sales = \"121\"\n",
    "tues_sales = \"105\"\n",
    "wed_sales = \"110\"\n",
    "thurs_sales = \"98\"\n",
    "fri_sales = \"95\"\n",
    "\n",
    "#TODO: Print a string with this format: This week's total sales: xxx\n",
    "# You will probably need to write some lines of code before the print statement.\n",
    "\n",
    "total_sales = int(mon_sales) + int(tues_sales) + int(wed_sales) + int(thurs_sales) + int(fri_sales)\n",
    "print(\"This week's total sales: {0}\".format(total_sales))"
   ]
  },
  {
   "cell_type": "markdown",
   "metadata": {},
   "source": [
    "# Lab 1 of 9"
   ]
  },
  {
   "cell_type": "code",
   "execution_count": 10,
   "metadata": {},
   "outputs": [
    {
     "name": "stdout",
     "output_type": "stream",
     "text": [
      "capitalize: My name is gbubemi\n",
      "ccasefold: my name is gbubemi\n",
      "center: My name is Gbubemi\n",
      "count: 1\n",
      "encode: b'My name is Gbubemi'\n",
      "endswith: False\n",
      "expandtabs: My name is Gbubemi\n",
      "find: 6\n",
      "format: My name is Gbubemi\n",
      "format_map: My name is Gbubemi\n",
      "index: 4\n",
      "isalnum: False\n",
      "isalpha: False\n",
      "isascii: True\n",
      "isdecimal: False\n",
      "isdigit: False\n",
      "isidentifier: False\n",
      "islower: False\n",
      "isnumeric: False\n",
      "isprintable: True\n",
      "isspace: False\n",
      "istitle: False\n",
      "isupper: False\n",
      "join: N\n",
      "ljust: My name is Gbubemi\n",
      "lower: my name is gbubemi\n",
      "lstrip: My name is Gbubemi\n",
      "partition: ('My name is Gbubemi', '', '')\n",
      "replace: My nams is Gbubsmi\n",
      "rfind: 14\n",
      "rindex: 4\n",
      "rjust: My name is Gbubemi\n",
      "rpartition: ('', '', 'My name is Gbubemi')\n",
      "rsplit: ['My', 'name', 'is', 'Gbubemi']\n",
      "rstrip: My name is Gbubemi\n",
      "split: ['My', 'name', 'is', 'Gbubemi']\n",
      "splitlines: ['My name is Gbubemi']\n",
      "startswith: False\n",
      "strip: My name is Gbubemi\n",
      "swapcase: mY NAME IS gBUBEMI\n",
      "title: My Name Is Gbubemi\n",
      "upper: MY NAME IS GBUBEMI\n",
      "zfill: My name is Gbubemi\n"
     ]
    }
   ],
   "source": [
    "# Browse the complete list of string methods at:\n",
    "# https://docs.python.org/3/library/stdtypes.html#string-methods \n",
    "#and try them out here. Endeavor to copy the link without the first # comment sign beginning it.\n",
    "\n",
    "my_string = \"My name is Gbubemi\"\n",
    "\n",
    "#capitalize\n",
    "print(\"capitalize:\",my_string.capitalize())\n",
    "\n",
    "#casefold\n",
    "print(\"ccasefold:\",my_string.casefold())\n",
    "\n",
    "#center\n",
    "print(\"center:\",my_string.center(1))\n",
    "\n",
    "#count\n",
    "print(\"count:\",my_string.count('a'))\n",
    "\n",
    "#encode\n",
    "print(\"encode:\",my_string.encode(encoding=\"utf-8\", errors=\"strict\"))\n",
    "\n",
    "#endswith\n",
    "print(\"endswith:\",my_string.endswith(\"y\"))\n",
    "\n",
    "#expandtabs\n",
    "print(\"expandtabs:\",my_string.expandtabs(tabsize=8))\n",
    "\n",
    "#find\n",
    "print(\"find:\",my_string.find('e'))\n",
    "\n",
    "#format\n",
    "print(\"format:\",my_string.format())\n",
    "\n",
    "#format_map\n",
    "print(\"format_map:\",my_string.format_map(5))\n",
    "\n",
    "#index\n",
    "print(\"index:\",my_string.index('a'))\n",
    "\n",
    "#isalnum\n",
    "print(\"isalnum:\",my_string.isalnum())\n",
    "\n",
    "#isalpha\n",
    "print(\"isalpha:\",my_string.isalpha())\n",
    "\n",
    "#isascii\n",
    "print(\"isascii:\",my_string.isascii())\n",
    "\n",
    "#isdecimal\n",
    "print(\"isdecimal:\",my_string.isdecimal())\n",
    "\n",
    "#isdigit\n",
    "print(\"isdigit:\",my_string.isdigit())\n",
    "\n",
    "#isidentifier\n",
    "print(\"isidentifier:\",my_string.isidentifier())\n",
    "\n",
    "#islower\n",
    "print(\"islower:\",my_string.islower())\n",
    "\n",
    "#isnumeric\n",
    "print(\"isnumeric:\",my_string.isnumeric())\n",
    "\n",
    "#isprintable\n",
    "print(\"isprintable:\",my_string.isprintable())\n",
    "\n",
    "#isspaci\n",
    "print(\"isspace:\",my_string.isspace())\n",
    "\n",
    "#istitle\n",
    "print(\"istitle:\",my_string.istitle())\n",
    "\n",
    "#isupper\n",
    "print(\"isupper:\",my_string.isupper())\n",
    "\n",
    "#join\n",
    "print(\"join:\",my_string.join(\"N\"))\n",
    "\n",
    "#ljust\n",
    "print(\"ljust:\",my_string.ljust(5))\n",
    "\n",
    "#lower\n",
    "print(\"lower:\",my_string.lower())\n",
    "\n",
    "#lstrip\n",
    "print(\"lstrip:\",my_string.lstrip('g'))\n",
    "\n",
    "#partition\n",
    "print(\"partition:\",my_string.partition('2'))\n",
    "\n",
    "#replace\n",
    "print(\"replace:\",my_string.replace('e', 's'))\n",
    "\n",
    "#rfind\n",
    "print(\"rfind:\",my_string.rfind('b'))\n",
    "\n",
    "#rindex\n",
    "print(\"rindex:\",my_string.rindex('a'))\n",
    "\n",
    "#rjust\n",
    "print(\"rjust:\",my_string.rjust(3))\n",
    "\n",
    "#rpartition\n",
    "print(\"rpartition:\",my_string.rpartition('6'))\n",
    "\n",
    "#rsplit\n",
    "print(\"rsplit:\",my_string.rsplit())\n",
    "\n",
    "#rstrip\n",
    "print(\"rstrip:\",my_string.rstrip('m'))\n",
    "\n",
    "#split\n",
    "print(\"split:\",my_string.split())\n",
    "\n",
    "#splitlines\n",
    "print(\"splitlines:\",my_string.splitlines(3))\n",
    "\n",
    "#startswith\n",
    "print(\"startswith:\",my_string.startswith('m'))\n",
    "\n",
    "#strip\n",
    "print(\"strip:\",my_string.strip('y'))\n",
    "\n",
    "#swapcase\n",
    "print(\"swapcase:\",my_string.swapcase())\n",
    "\n",
    "#title\n",
    "print(\"title:\",my_string.title())\n",
    "\n",
    "#upper\n",
    "print(\"upper:\",my_string.upper())\n",
    "\n",
    "#zfill\n",
    "print(\"zfill:\",my_string.zfill(7))"
   ]
  },
  {
   "cell_type": "markdown",
   "metadata": {},
   "source": [
    "# Lab 2 of 1"
   ]
  },
  {
   "cell_type": "code",
   "execution_count": 11,
   "metadata": {},
   "outputs": [
    {
     "name": "stdout",
     "output_type": "stream",
     "text": [
      "Hello Gbubemi, good morning\n"
     ]
    }
   ],
   "source": [
    "# Write two lines of code below, each assigning a value to a variable\n",
    "\n",
    "name = \"Gbubemi\"\n",
    "greeting = \"good morning\"\n",
    "\n",
    "# Now write a print statement using .format() to print out a sentence and the \n",
    "# values of both of the variables\n",
    "\n",
    "print(\"Hello {0}, {1}\".format(name, greeting))"
   ]
  },
  {
   "cell_type": "markdown",
   "metadata": {},
   "source": [
    "# Lab 2 of 2"
   ]
  },
  {
   "cell_type": "code",
   "execution_count": 12,
   "metadata": {},
   "outputs": [
    {
     "name": "stdout",
     "output_type": "stream",
     "text": [
      "If you can keep your head when all about you\n",
      "  Are losing theirs and blaming it on you,\n",
      "If you can trust yourself when all men doubt you,\n",
      "  But make allowance for their doubting too;\n",
      "If you can wait and not be tired by waiting,\n",
      "  Or being lied about, don’t deal in lies,\n",
      "Or being hated, don’t give way to hating,\n",
      "  And yet don’t look too good, nor talk too wise:\n",
      "The length of the string variable verse is 362\n",
      "The index of the first occurrence of the word 'and' in verse is 65\n",
      "The index of the last occurrence of the word 'you' in verse is 186\n",
      "The count of occurrences of the word 'you' in the verse is 3\n",
      "The count of occurrences of the word 'you' in the verse is 8\n"
     ]
    }
   ],
   "source": [
    "#1. What is the length of the string variable verse?\n",
    "#2. What is the index of the first occurrence of the word 'and' in verse?\n",
    "#3. What is the index of the last occurrence of the word 'you' in verse?\n",
    "#4. What is the count of occurrences of the word 'you' in the verse?\n",
    "\n",
    "\n",
    "verse = \"If you can keep your head when all about you\\n  Are losing theirs and blaming it on you,\\nIf you can trust yourself when all men doubt you,\\n  But make allowance for their doubting too;\\nIf you can wait and not be tired by waiting,\\n  Or being lied about, don’t deal in lies,\\nOr being hated, don’t give way to hating,\\n  And yet don’t look too good, nor talk too wise:\"\n",
    "print(verse)\n",
    "\n",
    "# Use the appropriate functions and methods to answer the questions above\n",
    "# Bonus: practice using .format() to output your answers in descriptive messages!\n",
    "\n",
    "print(\"The length of the string variable verse is {0}\".format(len(verse)))\n",
    "print(\"The index of the first occurrence of the word 'and' in verse is {0}\".format(verse.find('and')))\n",
    "print(\"The index of the last occurrence of the word 'you' in verse is {0}\".format(verse.rfind('you')))\n",
    "\n",
    "#This is just for the you string alone and not for you inside another string like \"your\" or yourself\n",
    "print(\"The count of occurrences of the word 'you' in the verse is {0}\".format(verse.count('you ')))\n",
    "\n",
    "print(\"The count of occurrences of the word 'you' in the verse is {0}\".format(verse.count('you')))"
   ]
  },
  {
   "cell_type": "code",
   "execution_count": null,
   "metadata": {},
   "outputs": [],
   "source": []
  }
 ],
 "metadata": {
  "kernelspec": {
   "display_name": "Python 3",
   "language": "python",
   "name": "python3"
  },
  "language_info": {
   "codemirror_mode": {
    "name": "ipython",
    "version": 3
   },
   "file_extension": ".py",
   "mimetype": "text/x-python",
   "name": "python",
   "nbconvert_exporter": "python",
   "pygments_lexer": "ipython3",
   "version": "3.7.3"
  }
 },
 "nbformat": 4,
 "nbformat_minor": 2
}
