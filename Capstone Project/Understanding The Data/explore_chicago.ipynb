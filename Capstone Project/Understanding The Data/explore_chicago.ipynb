{
 "cells": [
  {
   "cell_type": "markdown",
   "metadata": {},
   "source": [
    "# Introduction"
   ]
  },
  {
   "cell_type": "markdown",
   "metadata": {},
   "source": [
    "Though there are a number of ways you can go about tackling this project, we recommend using NumPy and pandas. Using these libraries is the industry standard for working with data in Python. In the quizzes in this and the following sections, you will get some practice using NumPy and pandas to complete different parts of the project. Then for the project, you will need to piece your code together with some additional code to complete a final project! These sections will likely be helpful if you use NumPy and pandas to complete the project."
   ]
  },
  {
   "cell_type": "markdown",
   "metadata": {},
   "source": [
    "# Understanding the Data"
   ]
  },
  {
   "cell_type": "markdown",
   "metadata": {},
   "source": [
    "Let's use pandas to better understand the bike share data! Use this code editor to explore chicago.csv and answer the questions below. The file included here is a mini version of one of the actual data files you will work with for the project. It only includes 400 rows, but the structure and columns are the same."
   ]
  },
  {
   "cell_type": "markdown",
   "metadata": {},
   "source": [
    "#1. What columns are in this dataset?\n",
    "#2. Are there any missing values?\n",
    "#3. What are the different types of values in each column?\n",
    "#4. Some useful pandas methods:"
   ]
  },
  {
   "cell_type": "code",
   "execution_count": 1,
   "metadata": {},
   "outputs": [],
   "source": [
    "#df.head()\n",
    "#df.columns\n",
    "#df.describe()\n",
    "#df.info()\n",
    "#df['column_name'].value_counts()\n",
    "#df['column_name'].unique()"
   ]
  },
  {
   "cell_type": "code",
   "execution_count": 2,
   "metadata": {},
   "outputs": [],
   "source": [
    "import pandas as pd"
   ]
  },
  {
   "cell_type": "code",
   "execution_count": 3,
   "metadata": {},
   "outputs": [],
   "source": [
    "df = pd.read_csv(\"chicago.csv\")"
   ]
  },
  {
   "cell_type": "code",
   "execution_count": 4,
   "metadata": {},
   "outputs": [
    {
     "data": {
      "text/html": [
       "<div>\n",
       "<style scoped>\n",
       "    .dataframe tbody tr th:only-of-type {\n",
       "        vertical-align: middle;\n",
       "    }\n",
       "\n",
       "    .dataframe tbody tr th {\n",
       "        vertical-align: top;\n",
       "    }\n",
       "\n",
       "    .dataframe thead th {\n",
       "        text-align: right;\n",
       "    }\n",
       "</style>\n",
       "<table border=\"1\" class=\"dataframe\">\n",
       "  <thead>\n",
       "    <tr style=\"text-align: right;\">\n",
       "      <th></th>\n",
       "      <th>Start Time</th>\n",
       "      <th>End Time</th>\n",
       "      <th>Trip Duration</th>\n",
       "      <th>Start Station</th>\n",
       "      <th>End Station</th>\n",
       "      <th>User Type</th>\n",
       "      <th>Gender</th>\n",
       "      <th>Birth Year</th>\n",
       "    </tr>\n",
       "  </thead>\n",
       "  <tbody>\n",
       "    <tr>\n",
       "      <th>0</th>\n",
       "      <td>29/05/2017 18:36</td>\n",
       "      <td>29/05/2017 18:49</td>\n",
       "      <td>780</td>\n",
       "      <td>Columbus Dr &amp; Randolph St</td>\n",
       "      <td>Federal St &amp; Polk St</td>\n",
       "      <td>Subscriber</td>\n",
       "      <td>Male</td>\n",
       "      <td>1991.0</td>\n",
       "    </tr>\n",
       "    <tr>\n",
       "      <th>1</th>\n",
       "      <td>12/06/2017 19:00</td>\n",
       "      <td>12/06/2017 19:24</td>\n",
       "      <td>1429</td>\n",
       "      <td>Kingsbury St &amp; Erie St</td>\n",
       "      <td>Orleans St &amp; Merchandise Mart Plaza</td>\n",
       "      <td>Customer</td>\n",
       "      <td>NaN</td>\n",
       "      <td>NaN</td>\n",
       "    </tr>\n",
       "    <tr>\n",
       "      <th>2</th>\n",
       "      <td>13/02/2017 17:02</td>\n",
       "      <td>13/02/2017 17:20</td>\n",
       "      <td>1088</td>\n",
       "      <td>Canal St &amp; Madison St</td>\n",
       "      <td>Paulina Ave &amp; North Ave</td>\n",
       "      <td>Subscriber</td>\n",
       "      <td>Female</td>\n",
       "      <td>1982.0</td>\n",
       "    </tr>\n",
       "    <tr>\n",
       "      <th>3</th>\n",
       "      <td>24/04/2017 18:39</td>\n",
       "      <td>24/04/2017 18:54</td>\n",
       "      <td>914</td>\n",
       "      <td>Spaulding Ave &amp; Armitage Ave</td>\n",
       "      <td>California Ave &amp; Milwaukee Ave</td>\n",
       "      <td>Subscriber</td>\n",
       "      <td>Male</td>\n",
       "      <td>1966.0</td>\n",
       "    </tr>\n",
       "    <tr>\n",
       "      <th>4</th>\n",
       "      <td>26/01/2017 15:36</td>\n",
       "      <td>26/01/2017 15:43</td>\n",
       "      <td>434</td>\n",
       "      <td>Clark St &amp; Randolph St</td>\n",
       "      <td>Financial Pl &amp; Congress Pkwy</td>\n",
       "      <td>Subscriber</td>\n",
       "      <td>Female</td>\n",
       "      <td>1983.0</td>\n",
       "    </tr>\n",
       "  </tbody>\n",
       "</table>\n",
       "</div>"
      ],
      "text/plain": [
       "         Start Time          End Time  Trip Duration  \\\n",
       "0  29/05/2017 18:36  29/05/2017 18:49            780   \n",
       "1  12/06/2017 19:00  12/06/2017 19:24           1429   \n",
       "2  13/02/2017 17:02  13/02/2017 17:20           1088   \n",
       "3  24/04/2017 18:39  24/04/2017 18:54            914   \n",
       "4  26/01/2017 15:36  26/01/2017 15:43            434   \n",
       "\n",
       "                  Start Station                          End Station  \\\n",
       "0     Columbus Dr & Randolph St                 Federal St & Polk St   \n",
       "1        Kingsbury St & Erie St  Orleans St & Merchandise Mart Plaza   \n",
       "2         Canal St & Madison St              Paulina Ave & North Ave   \n",
       "3  Spaulding Ave & Armitage Ave       California Ave & Milwaukee Ave   \n",
       "4        Clark St & Randolph St         Financial Pl & Congress Pkwy   \n",
       "\n",
       "    User Type  Gender  Birth Year  \n",
       "0  Subscriber    Male      1991.0  \n",
       "1    Customer     NaN         NaN  \n",
       "2  Subscriber  Female      1982.0  \n",
       "3  Subscriber    Male      1966.0  \n",
       "4  Subscriber  Female      1983.0  "
      ]
     },
     "execution_count": 4,
     "metadata": {},
     "output_type": "execute_result"
    }
   ],
   "source": [
    "df.head()"
   ]
  },
  {
   "cell_type": "code",
   "execution_count": 5,
   "metadata": {},
   "outputs": [
    {
     "data": {
      "text/plain": [
       "Index(['Start Time', 'End Time', 'Trip Duration', 'Start Station',\n",
       "       'End Station', 'User Type', 'Gender', 'Birth Year'],\n",
       "      dtype='object')"
      ]
     },
     "execution_count": 5,
     "metadata": {},
     "output_type": "execute_result"
    }
   ],
   "source": [
    "df.columns"
   ]
  },
  {
   "cell_type": "code",
   "execution_count": 6,
   "metadata": {},
   "outputs": [
    {
     "data": {
      "text/html": [
       "<div>\n",
       "<style scoped>\n",
       "    .dataframe tbody tr th:only-of-type {\n",
       "        vertical-align: middle;\n",
       "    }\n",
       "\n",
       "    .dataframe tbody tr th {\n",
       "        vertical-align: top;\n",
       "    }\n",
       "\n",
       "    .dataframe thead th {\n",
       "        text-align: right;\n",
       "    }\n",
       "</style>\n",
       "<table border=\"1\" class=\"dataframe\">\n",
       "  <thead>\n",
       "    <tr style=\"text-align: right;\">\n",
       "      <th></th>\n",
       "      <th>Trip Duration</th>\n",
       "      <th>Birth Year</th>\n",
       "    </tr>\n",
       "  </thead>\n",
       "  <tbody>\n",
       "    <tr>\n",
       "      <th>count</th>\n",
       "      <td>400.000000</td>\n",
       "      <td>330.000000</td>\n",
       "    </tr>\n",
       "    <tr>\n",
       "      <th>mean</th>\n",
       "      <td>938.215000</td>\n",
       "      <td>1980.533333</td>\n",
       "    </tr>\n",
       "    <tr>\n",
       "      <th>std</th>\n",
       "      <td>2466.972184</td>\n",
       "      <td>11.723011</td>\n",
       "    </tr>\n",
       "    <tr>\n",
       "      <th>min</th>\n",
       "      <td>97.000000</td>\n",
       "      <td>1949.000000</td>\n",
       "    </tr>\n",
       "    <tr>\n",
       "      <th>25%</th>\n",
       "      <td>407.000000</td>\n",
       "      <td>1973.000000</td>\n",
       "    </tr>\n",
       "    <tr>\n",
       "      <th>50%</th>\n",
       "      <td>634.000000</td>\n",
       "      <td>1984.000000</td>\n",
       "    </tr>\n",
       "    <tr>\n",
       "      <th>75%</th>\n",
       "      <td>997.750000</td>\n",
       "      <td>1989.000000</td>\n",
       "    </tr>\n",
       "    <tr>\n",
       "      <th>max</th>\n",
       "      <td>47551.000000</td>\n",
       "      <td>1999.000000</td>\n",
       "    </tr>\n",
       "  </tbody>\n",
       "</table>\n",
       "</div>"
      ],
      "text/plain": [
       "       Trip Duration   Birth Year\n",
       "count     400.000000   330.000000\n",
       "mean      938.215000  1980.533333\n",
       "std      2466.972184    11.723011\n",
       "min        97.000000  1949.000000\n",
       "25%       407.000000  1973.000000\n",
       "50%       634.000000  1984.000000\n",
       "75%       997.750000  1989.000000\n",
       "max     47551.000000  1999.000000"
      ]
     },
     "execution_count": 6,
     "metadata": {},
     "output_type": "execute_result"
    }
   ],
   "source": [
    "df.describe()"
   ]
  },
  {
   "cell_type": "code",
   "execution_count": 7,
   "metadata": {},
   "outputs": [
    {
     "name": "stdout",
     "output_type": "stream",
     "text": [
      "<class 'pandas.core.frame.DataFrame'>\n",
      "RangeIndex: 400 entries, 0 to 399\n",
      "Data columns (total 8 columns):\n",
      " #   Column         Non-Null Count  Dtype  \n",
      "---  ------         --------------  -----  \n",
      " 0   Start Time     400 non-null    object \n",
      " 1   End Time       400 non-null    object \n",
      " 2   Trip Duration  400 non-null    int64  \n",
      " 3   Start Station  400 non-null    object \n",
      " 4   End Station    400 non-null    object \n",
      " 5   User Type      400 non-null    object \n",
      " 6   Gender         330 non-null    object \n",
      " 7   Birth Year     330 non-null    float64\n",
      "dtypes: float64(1), int64(1), object(6)\n",
      "memory usage: 25.1+ KB\n"
     ]
    }
   ],
   "source": [
    "df.info()"
   ]
  },
  {
   "cell_type": "code",
   "execution_count": 8,
   "metadata": {},
   "outputs": [
    {
     "data": {
      "text/plain": [
       "Streeter Dr & Grand Ave                10\n",
       "Orleans St & Merchandise Mart Plaza     9\n",
       "Clinton St & Washington Blvd            8\n",
       "Dusable Harbor                          7\n",
       "Kingsbury St & Kinzie St                6\n",
       "Name: Start Station, dtype: int64"
      ]
     },
     "execution_count": 8,
     "metadata": {},
     "output_type": "execute_result"
    }
   ],
   "source": [
    "df['Start Station'].value_counts().head()"
   ]
  },
  {
   "cell_type": "code",
   "execution_count": 9,
   "metadata": {},
   "outputs": [
    {
     "data": {
      "text/plain": [
       "Clinton St & Washington Blvd    8\n",
       "Streeter Dr & Grand Ave         7\n",
       "Lake Shore Dr & Monroe St       6\n",
       "Canal St & Madison St           6\n",
       "LaSalle St & Jackson Blvd       6\n",
       "Name: End Station, dtype: int64"
      ]
     },
     "execution_count": 9,
     "metadata": {},
     "output_type": "execute_result"
    }
   ],
   "source": [
    "df['End Station'].value_counts().head()"
   ]
  },
  {
   "cell_type": "code",
   "execution_count": 10,
   "metadata": {},
   "outputs": [
    {
     "data": {
      "text/plain": [
       "Subscriber    330\n",
       "Customer       70\n",
       "Name: User Type, dtype: int64"
      ]
     },
     "execution_count": 10,
     "metadata": {},
     "output_type": "execute_result"
    }
   ],
   "source": [
    "df['User Type'].value_counts()"
   ]
  },
  {
   "cell_type": "code",
   "execution_count": 11,
   "metadata": {},
   "outputs": [
    {
     "data": {
      "text/plain": [
       "Male      244\n",
       "Female     86\n",
       "Name: Gender, dtype: int64"
      ]
     },
     "execution_count": 11,
     "metadata": {},
     "output_type": "execute_result"
    }
   ],
   "source": [
    "df['Gender'].value_counts()"
   ]
  },
  {
   "cell_type": "code",
   "execution_count": 12,
   "metadata": {},
   "outputs": [
    {
     "data": {
      "text/plain": [
       "1989.0    24\n",
       "1990.0    23\n",
       "1986.0    21\n",
       "1984.0    20\n",
       "1985.0    18\n",
       "Name: Birth Year, dtype: int64"
      ]
     },
     "execution_count": 12,
     "metadata": {},
     "output_type": "execute_result"
    }
   ],
   "source": [
    "df['Birth Year'].value_counts().head()"
   ]
  },
  {
   "cell_type": "code",
   "execution_count": 13,
   "metadata": {},
   "outputs": [
    {
     "data": {
      "text/plain": [
       "'Streeter Dr & Grand Ave'"
      ]
     },
     "execution_count": 13,
     "metadata": {},
     "output_type": "execute_result"
    }
   ],
   "source": [
    "df['Start Station'].value_counts().head().index[0]"
   ]
  }
 ],
 "metadata": {
  "kernelspec": {
   "display_name": "Python 3",
   "language": "python",
   "name": "python3"
  },
  "language_info": {
   "codemirror_mode": {
    "name": "ipython",
    "version": 3
   },
   "file_extension": ".py",
   "mimetype": "text/x-python",
   "name": "python",
   "nbconvert_exporter": "python",
   "pygments_lexer": "ipython3",
   "version": "3.7.3"
  }
 },
 "nbformat": 4,
 "nbformat_minor": 2
}
